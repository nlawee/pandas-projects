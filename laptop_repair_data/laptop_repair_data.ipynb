{
 "cells": [
  {
   "cell_type": "markdown",
   "id": "94764601",
   "metadata": {},
   "source": [
    "# Explore Laptop Repair Data\n",
    "\n",
    "- [View Solution Notebook](./solution.html)\n",
    "- [View Project Page](https://www.codecademy.com/projects/practice/explore-laptop-repair-data-with-python)"
   ]
  },
  {
   "cell_type": "markdown",
   "id": "6496f2aa",
   "metadata": {},
   "source": [
    "## Task Group 1 -  Import and Inspect"
   ]
  },
  {
   "cell_type": "markdown",
   "id": "bbd065f3",
   "metadata": {},
   "source": [
    "### Task 1 \n",
    "\n",
    "Import `pandas` using the alias `pd`."
   ]
  },
  {
   "cell_type": "code",
   "execution_count": 5,
   "id": "76c32d05",
   "metadata": {},
   "outputs": [],
   "source": [
    "import pandas as pd"
   ]
  },
  {
   "cell_type": "markdown",
   "id": "827c9e00",
   "metadata": {},
   "source": [
    "### Task 2\n",
    "\n",
    "Import the dataset in `laptops.csv` and assign to the variable `laptops`."
   ]
  },
  {
   "cell_type": "code",
   "execution_count": 8,
   "id": "bd3358ce",
   "metadata": {},
   "outputs": [],
   "source": [
    "laptops = pd.read_csv('laptops.csv')"
   ]
  },
  {
   "cell_type": "markdown",
   "id": "dbe1e6d5",
   "metadata": {},
   "source": [
    "### Task 3\n",
    "\n",
    "Display the first five lines of the `laptops` DataFrame."
   ]
  },
  {
   "cell_type": "code",
   "execution_count": 9,
   "id": "fdf2a3db",
   "metadata": {},
   "outputs": [
    {
     "data": {
      "text/html": [
       "<div>\n",
       "<style scoped>\n",
       "    .dataframe tbody tr th:only-of-type {\n",
       "        vertical-align: middle;\n",
       "    }\n",
       "\n",
       "    .dataframe tbody tr th {\n",
       "        vertical-align: top;\n",
       "    }\n",
       "\n",
       "    .dataframe thead th {\n",
       "        text-align: right;\n",
       "    }\n",
       "</style>\n",
       "<table border=\"1\" class=\"dataframe\">\n",
       "  <thead>\n",
       "    <tr style=\"text-align: right;\">\n",
       "      <th></th>\n",
       "      <th>problem</th>\n",
       "      <th>brand</th>\n",
       "      <th>repair_status</th>\n",
       "      <th>event_year</th>\n",
       "      <th>age</th>\n",
       "    </tr>\n",
       "  </thead>\n",
       "  <tbody>\n",
       "    <tr>\n",
       "      <th>0</th>\n",
       "      <td>unknown</td>\n",
       "      <td>lenovo</td>\n",
       "      <td>fixed</td>\n",
       "      <td>2019</td>\n",
       "      <td>0.0</td>\n",
       "    </tr>\n",
       "    <tr>\n",
       "      <th>1</th>\n",
       "      <td>virus/malware</td>\n",
       "      <td>lenovo</td>\n",
       "      <td>fixed</td>\n",
       "      <td>2018</td>\n",
       "      <td>0.0</td>\n",
       "    </tr>\n",
       "    <tr>\n",
       "      <th>2</th>\n",
       "      <td>operating system</td>\n",
       "      <td>geo</td>\n",
       "      <td>fixed</td>\n",
       "      <td>2019</td>\n",
       "      <td>0.0</td>\n",
       "    </tr>\n",
       "    <tr>\n",
       "      <th>3</th>\n",
       "      <td>multiple</td>\n",
       "      <td>hp</td>\n",
       "      <td>fixed</td>\n",
       "      <td>2019</td>\n",
       "      <td>0.0</td>\n",
       "    </tr>\n",
       "    <tr>\n",
       "      <th>4</th>\n",
       "      <td>virus/malware</td>\n",
       "      <td>hp</td>\n",
       "      <td>fixed</td>\n",
       "      <td>2018</td>\n",
       "      <td>0.0</td>\n",
       "    </tr>\n",
       "  </tbody>\n",
       "</table>\n",
       "</div>"
      ],
      "text/plain": [
       "            problem   brand repair_status  event_year  age\n",
       "0           unknown  lenovo         fixed        2019  0.0\n",
       "1     virus/malware  lenovo         fixed        2018  0.0\n",
       "2  operating system     geo         fixed        2019  0.0\n",
       "3          multiple      hp         fixed        2019  0.0\n",
       "4     virus/malware      hp         fixed        2018  0.0"
      ]
     },
     "execution_count": 9,
     "metadata": {},
     "output_type": "execute_result"
    }
   ],
   "source": [
    "laptops.head()"
   ]
  },
  {
   "cell_type": "markdown",
   "id": "4b052126",
   "metadata": {},
   "source": [
    "### Task 4\n",
    "\n",
    "Display the data types of the `laptops` DataFrame columns."
   ]
  },
  {
   "cell_type": "code",
   "execution_count": 10,
   "id": "f7776dbf",
   "metadata": {},
   "outputs": [
    {
     "data": {
      "text/plain": [
       "problem           object\n",
       "brand             object\n",
       "repair_status     object\n",
       "event_year         int64\n",
       "age              float64\n",
       "dtype: object"
      ]
     },
     "execution_count": 10,
     "metadata": {},
     "output_type": "execute_result"
    }
   ],
   "source": [
    "laptops.dtypes"
   ]
  },
  {
   "cell_type": "markdown",
   "id": "f7d38e10",
   "metadata": {},
   "source": [
    "## Task Group 2 -  Explore Numeric Columns"
   ]
  },
  {
   "cell_type": "markdown",
   "id": "c4ff5f80",
   "metadata": {},
   "source": [
    "### Task 5\n",
    "\n",
    "Let's take a look at the ages of laptops being brought in for repair. Use a series method to display the minimum, maximum, and other summary statistics for the `age` column. Do you notice anything interesting?"
   ]
  },
  {
   "cell_type": "code",
   "execution_count": 21,
   "id": "e59918db",
   "metadata": {},
   "outputs": [
    {
     "data": {
      "text/plain": [
       "count    815.000000\n",
       "mean       6.136196\n",
       "std        3.600758\n",
       "min        0.000000\n",
       "25%        4.000000\n",
       "50%        5.000000\n",
       "75%        8.000000\n",
       "max       29.000000\n",
       "Name: age, dtype: float64"
      ]
     },
     "execution_count": 21,
     "metadata": {},
     "output_type": "execute_result"
    }
   ],
   "source": [
    "laptops['age'].describe()\n",
    "\n",
    "\n",
    "# Maximum age is 29 years\n"
   ]
  },
  {
   "cell_type": "markdown",
   "id": "158edf4f",
   "metadata": {},
   "source": [
    "### Task 6\n",
    "\n",
    "The other numeric column is `event_year`. Use a pandas method to determine the earliest and latest years in the dataset."
   ]
  },
  {
   "cell_type": "code",
   "execution_count": 22,
   "id": "a2cbbcf5",
   "metadata": {},
   "outputs": [
    {
     "data": {
      "text/plain": [
       "count    3511.000000\n",
       "mean     2017.583594\n",
       "std         1.691374\n",
       "min      2012.000000\n",
       "25%      2017.000000\n",
       "50%      2018.000000\n",
       "75%      2019.000000\n",
       "max      2020.000000\n",
       "Name: event_year, dtype: float64"
      ]
     },
     "execution_count": 22,
     "metadata": {},
     "output_type": "execute_result"
    }
   ],
   "source": [
    "laptops['event_year'].describe()\n",
    "\n",
    "# Earliest year is 2012 and latest year is 2020.\n",
    "\n"
   ]
  },
  {
   "cell_type": "markdown",
   "id": "b9aa6ee1",
   "metadata": {},
   "source": [
    "## Task Group 3 - Explore Categorical Columns"
   ]
  },
  {
   "cell_type": "markdown",
   "id": "bd448462",
   "metadata": {},
   "source": [
    "### Task 7\n",
    "\n",
    "Let's also take a look at `event_year` as a categorical column. Use a series method to output the number of laptops in the data for each `event_year`. What do you notice?"
   ]
  },
  {
   "cell_type": "code",
   "execution_count": 27,
   "id": "24cfae5d",
   "metadata": {},
   "outputs": [
    {
     "data": {
      "text/plain": [
       "2019    1116\n",
       "2018     690\n",
       "2017     686\n",
       "2016     362\n",
       "2020     231\n",
       "2014     177\n",
       "2015     162\n",
       "2013      86\n",
       "2012       1\n",
       "Name: event_year, dtype: int64"
      ]
     },
     "execution_count": 27,
     "metadata": {},
     "output_type": "execute_result"
    }
   ],
   "source": [
    "laptops['event_year'].value_counts(ascending=False)\n",
    "\n",
    "# only one laptop from 2012, also 2020 huge decline in laptops"
   ]
  },
  {
   "cell_type": "markdown",
   "id": "d912e305",
   "metadata": {},
   "source": [
    "### Task 8\n",
    "\n",
    "Now, let's focus on the problems causing people to bring in laptops for repair. Use a series method to display the most common problems in the dataset. What do you notice?"
   ]
  },
  {
   "cell_type": "code",
   "execution_count": 29,
   "id": "3e7f33df",
   "metadata": {},
   "outputs": [
    {
     "data": {
      "text/plain": [
       "unknown                       980\n",
       "performance                   398\n",
       "power/battery                 316\n",
       "configuration                 295\n",
       "integrated screen             257\n",
       "internal storage              184\n",
       "operating system              177\n",
       "boot                          171\n",
       "ports/slots/connectors        127\n",
       "overheating                   107\n",
       "integrated keyboard           106\n",
       "case/chassis                   75\n",
       "system board                   72\n",
       "internal damage                59\n",
       "virus/malware                  57\n",
       "other                          32\n",
       "integrated media component     27\n",
       "integrated pointing device     25\n",
       "multiple                       23\n",
       "integrated optical drive       23\n",
       "Name: problem, dtype: int64"
      ]
     },
     "execution_count": 29,
     "metadata": {},
     "output_type": "execute_result"
    }
   ],
   "source": [
    "laptops['problem'].value_counts()\n",
    "\n",
    "#There are 980 laptops that are diagnosed with the 'unknown' category."
   ]
  },
  {
   "cell_type": "markdown",
   "id": "2091a041",
   "metadata": {},
   "source": [
    "### Task 9\n",
    "\n",
    "Power and battery issues are pretty common, but what percentage of the data do they represent? Modify the method from the previous task to output percentages instead of counts."
   ]
  },
  {
   "cell_type": "code",
   "execution_count": 35,
   "id": "0b71ad48",
   "metadata": {},
   "outputs": [
    {
     "data": {
      "text/plain": [
       "unknown                       27.912276\n",
       "performance                   11.335802\n",
       "power/battery                  9.000285\n",
       "configuration                  8.402165\n",
       "integrated screen              7.319852\n",
       "internal storage               5.240672\n",
       "operating system               5.041299\n",
       "boot                           4.870407\n",
       "ports/slots/connectors         3.617203\n",
       "overheating                    3.047565\n",
       "integrated keyboard            3.019083\n",
       "case/chassis                   2.136144\n",
       "system board                   2.050698\n",
       "internal damage                1.680433\n",
       "virus/malware                  1.623469\n",
       "other                          0.911421\n",
       "integrated media component     0.769012\n",
       "integrated pointing device     0.712048\n",
       "multiple                       0.655084\n",
       "integrated optical drive       0.655084\n",
       "Name: problem, dtype: float64"
      ]
     },
     "execution_count": 35,
     "metadata": {},
     "output_type": "execute_result"
    }
   ],
   "source": [
    "pcent = laptops['problem'].value_counts(normalize=True)\n",
    "pcent*100\n",
    "\n",
    "# Power/battery issues make up 9% of the total problems with laptop repairs.\n"
   ]
  },
  {
   "cell_type": "markdown",
   "id": "be19532e",
   "metadata": {},
   "source": [
    "### Task 10\n",
    "\n",
    "Lastly, let's look at how often laptops brought into these events are recorded as fixed. Use a pandas method to count the number of laptops in each category of `repair_status`."
   ]
  },
  {
   "cell_type": "code",
   "execution_count": 38,
   "id": "f476553d",
   "metadata": {},
   "outputs": [
    {
     "data": {
      "text/plain": [
       "fixed          52.264312\n",
       "repairable     32.640273\n",
       "end of life    12.047850\n",
       "unknown         3.047565\n",
       "Name: repair_status, dtype: float64"
      ]
     },
     "execution_count": 38,
     "metadata": {},
     "output_type": "execute_result"
    }
   ],
   "source": [
    "laptops['repair_status'].value_counts(normalize = True) * 100\n",
    "\n",
    "# Looks like 52% of laptops that are taken in for repair are able to be fixed."
   ]
  },
  {
   "cell_type": "code",
   "execution_count": null,
   "id": "e9c57164",
   "metadata": {},
   "outputs": [],
   "source": []
  }
 ],
 "metadata": {
  "kernelspec": {
   "display_name": "Python 3 (ipykernel)",
   "language": "python",
   "name": "python3"
  },
  "language_info": {
   "codemirror_mode": {
    "name": "ipython",
    "version": 3
   },
   "file_extension": ".py",
   "mimetype": "text/x-python",
   "name": "python",
   "nbconvert_exporter": "python",
   "pygments_lexer": "ipython3",
   "version": "3.8.10"
  }
 },
 "nbformat": 4,
 "nbformat_minor": 5
}
